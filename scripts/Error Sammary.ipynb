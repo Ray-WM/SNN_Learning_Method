{
 "cells": [
  {
   "cell_type": "code",
   "execution_count": 1,
   "metadata": {},
   "outputs": [],
   "source": [
    "%matplotlib inline\n",
    "%load_ext autoreload\n",
    "%autoreload 2\n",
    "\n",
    "import numpy as np\n",
    "\n",
    "\"\"\"系统的关键节点要添加跟踪log\n",
    "这里是logging初始化过程\n",
    "logging的使用方式参考data模块\n",
    "\"\"\"\n",
    "import logging\n",
    "import sys\n",
    "sys.path.append('../')\n",
    "logging.basicConfig(level=logging.DEBUG, \n",
    "                    format='%(asctime)s [%(levelname)s] %(filename)s %(lineno)s: %(message)s',\n",
    "                    datefmt='%m/%d/%Y %I:%M:%S %p',\n",
    "                    stream=sys.stdout)"
   ]
  },
  {
   "cell_type": "code",
   "execution_count": 2,
   "metadata": {},
   "outputs": [],
   "source": [
    "from whatnet.data.cnn_converter import CnnConverter\n",
    "import matplotlib.pyplot as plt\n",
    "import pandas as pd"
   ]
  },
  {
   "cell_type": "code",
   "execution_count": 3,
   "metadata": {},
   "outputs": [],
   "source": [
    "converter = CnnConverter(\"power\", 28, 28, convolution_win_height=4, convolution_win_width=4, max_pooling_win_width=2, max_pooling_win_height=2)"
   ]
  },
  {
   "cell_type": "code",
   "execution_count": 4,
   "metadata": {},
   "outputs": [],
   "source": [
    "import whatnet.data.datasets.mnist as data_reader"
   ]
  },
  {
   "cell_type": "code",
   "execution_count": 5,
   "metadata": {},
   "outputs": [
    {
     "name": "stdout",
     "output_type": "stream",
     "text": [
      "01/11/2018 09:11:57 AM [INFO] mnist.py 19: Extractint ../scripts/data/mnist/train-images-idx3-ubyte.gz\n",
      "01/11/2018 09:11:57 AM [INFO] mnist.py 32: Extracting ../scripts/data/mnist/train-labels-idx1-ubyte.gz\n",
      "01/11/2018 09:11:57 AM [INFO] mnist.py 19: Extractint ../scripts/data/mnist/t10k-images-idx3-ubyte.gz\n",
      "01/11/2018 09:11:57 AM [INFO] mnist.py 32: Extracting ../scripts/data/mnist/t10k-labels-idx1-ubyte.gz\n"
     ]
    }
   ],
   "source": [
    "mnist = data_reader.read_data_sets(\"../scripts/data\")"
   ]
  },
  {
   "cell_type": "code",
   "execution_count": 6,
   "metadata": {},
   "outputs": [
    {
     "name": "stdout",
     "output_type": "stream",
     "text": [
      "00 ->> 0\n",
      "01 ->> 0\n",
      "02 ->> 18\n",
      "03 ->> 4\n",
      "04 ->> 0\n",
      "05 ->> 6\n",
      "06 ->> 63\n",
      "07 ->> 5\n",
      "08 ->> 7\n",
      "09 ->> 24\n",
      "10 ->> 0\n",
      "11 ->> 0\n",
      "12 ->> 30\n",
      "13 ->> 0\n",
      "14 ->> 0\n",
      "15 ->> 5\n",
      "16 ->> 6\n",
      "17 ->> 55\n",
      "18 ->> 115\n",
      "19 ->> 0\n",
      "20 ->> 7\n",
      "21 ->> 4\n",
      "22 ->> 0\n",
      "23 ->> 3\n",
      "24 ->> 7\n",
      "25 ->> 1\n",
      "26 ->> 22\n",
      "27 ->> 26\n",
      "28 ->> 34\n",
      "29 ->> 9\n",
      "30 ->> 4\n",
      "31 ->> 0\n",
      "32 ->> 136\n",
      "33 ->> 0\n",
      "34 ->> 0\n",
      "35 ->> 83\n",
      "36 ->> 6\n",
      "37 ->> 37\n",
      "38 ->> 89\n",
      "39 ->> 14\n",
      "40 ->> 1\n",
      "41 ->> 2\n",
      "42 ->> 10\n",
      "43 ->> 0\n",
      "44 ->> 0\n",
      "45 ->> 0\n",
      "46 ->> 21\n",
      "47 ->> 27\n",
      "48 ->> 22\n",
      "49 ->> 213\n",
      "50 ->> 7\n",
      "51 ->> 2\n",
      "52 ->> 9\n",
      "53 ->> 37\n",
      "54 ->> 9\n",
      "55 ->> 0\n",
      "56 ->> 36\n",
      "57 ->> 18\n",
      "58 ->> 55\n",
      "59 ->> 73\n",
      "60 ->> 20\n",
      "61 ->> 2\n",
      "62 ->> 10\n",
      "63 ->> 0\n",
      "64 ->> 7\n",
      "65 ->> 6\n",
      "66 ->> 0\n",
      "67 ->> 1\n",
      "68 ->> 24\n",
      "69 ->> 6\n",
      "70 ->> 0\n",
      "71 ->> 6\n",
      "72 ->> 15\n",
      "73 ->> 3\n",
      "74 ->> 2\n",
      "75 ->> 0\n",
      "76 ->> 2\n",
      "77 ->> 0\n",
      "78 ->> 9\n",
      "79 ->> 30\n",
      "80 ->> 8\n",
      "81 ->> 3\n",
      "82 ->> 20\n",
      "83 ->> 3\n",
      "84 ->> 14\n",
      "85 ->> 11\n",
      "86 ->> 37\n",
      "87 ->> 93\n",
      "88 ->> 0\n",
      "89 ->> 33\n",
      "90 ->> 3\n",
      "91 ->> 3\n",
      "92 ->> 2\n",
      "93 ->> 2\n",
      "94 ->> 15\n",
      "95 ->> 3\n",
      "96 ->> 4\n",
      "97 ->> 196\n",
      "98 ->> 11\n",
      "99 ->> 0\n"
     ]
    }
   ],
   "source": [
    "summarize = [0]*100\n",
    "err_msg = pd.read_csv(\"./err_msg1.csv\")\n",
    "for msg in err_msg.values:\n",
    "    index = msg[0]\n",
    "    err_result = msg[1]\n",
    "    summarize[mnist.test.target[index]*10+err_result]+=1 \n",
    "for i,v in enumerate(summarize):\n",
    "    print(str(i).zfill(2),\"->>\",v)"
   ]
  },
  {
   "cell_type": "code",
   "execution_count": null,
   "metadata": {},
   "outputs": [],
   "source": []
  }
 ],
 "metadata": {
  "kernelspec": {
   "display_name": "Python 3",
   "language": "python",
   "name": "python3"
  },
  "language_info": {
   "codemirror_mode": {
    "name": "ipython",
    "version": 3
   },
   "file_extension": ".py",
   "mimetype": "text/x-python",
   "name": "python",
   "nbconvert_exporter": "python",
   "pygments_lexer": "ipython3",
   "version": "3.6.2"
  }
 },
 "nbformat": 4,
 "nbformat_minor": 2
}
