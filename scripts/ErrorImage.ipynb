{
 "cells": [
  {
   "cell_type": "code",
   "execution_count": null,
   "metadata": {},
   "outputs": [],
   "source": [
    "%matplotlib inline\n",
    "%load_ext autoreload\n",
    "%autoreload 2\n",
    "\n",
    "import numpy as np\n",
    "\n",
    "\"\"\"系统的关键节点要添加跟踪log\n",
    "这里是logging初始化过程\n",
    "logging的使用方式参考data模块\n",
    "\"\"\"\n",
    "import logging\n",
    "import sys\n",
    "sys.path.append('../')\n",
    "logging.basicConfig(level=logging.DEBUG, \n",
    "                    format='%(asctime)s [%(levelname)s] %(filename)s %(lineno)s: %(message)s',\n",
    "                    datefmt='%m/%d/%Y %I:%M:%S %p',\n",
    "                    stream=sys.stdout)"
   ]
  },
  {
   "cell_type": "code",
   "execution_count": null,
   "metadata": {},
   "outputs": [],
   "source": [
    "from whatnet.data.cnn_converter import CnnConverter\n",
    "import whatnet.data.datasets.mnist as data_reader\n",
    "import matplotlib.pyplot as plt\n",
    "import pandas as pd\n",
    "\n",
    "converter = CnnConverter(param_file_path=\"../config/converter_config_default.json\")\n",
    "mnist = data_reader.read_data_sets(\"../scripts/data\")"
   ]
  },
  {
   "cell_type": "code",
   "execution_count": null,
   "metadata": {},
   "outputs": [],
   "source": [
    "err_msg = pd.read_csv(\"../record/err_msg1.csv\")"
   ]
  },
  {
   "cell_type": "code",
   "execution_count": null,
   "metadata": {},
   "outputs": [],
   "source": [
    "def draw_data(ori_image, id=221):\n",
    "    plt.subplot(id)\n",
    "    plt.imshow(ori_image)"
   ]
  },
  {
   "cell_type": "code",
   "execution_count": null,
   "metadata": {
    "scrolled": false
   },
   "outputs": [],
   "source": [
    "for msg in err_msg.values:\n",
    "    index = msg[0]\n",
    "    err_result = msg[1]\n",
    "    \n",
    "    if mnist.test.target[index] == 0 and err_result==6:\n",
    "        image = mnist.test.data[index]\n",
    "        print(\"######################################################################\")\n",
    "        print(\"  Actual  Target : \", mnist.test.target[index])\n",
    "        print(\"  Predict Resutl : \", err_result)\n",
    "        print(\"----------------------------------------------------------------------\")\n",
    "        print(\"  Origin Image :\")\n",
    "        converter.draw_data(np.array(image).flatten().reshape(28,28),211)\n",
    "        plt.show()\n",
    "        print(\"  Convolution Image :\")\n",
    "        num = 1\n",
    "        for key in converter.kernels.keys():\n",
    "            converter.draw_data(converter.convolution_layer(image,converter.kernels[key]), 220+num)\n",
    "            num += 1\n",
    "            if num > 4:\n",
    "                num = 1\n",
    "                plt.figure()\n",
    "        plt.show()\n",
    "        #converter.draw_data(converter.convolution_layer(image,converter.kernel1), 221)\n",
    "        #converter.draw_data(converter.convolution_layer(image,converter.kernel2), 222)\n",
    "        #converter.draw_data(converter.convolution_layer(image,converter.kernel3), 223)\n",
    "        #converter.draw_data(converter.convolution_layer(image,converter.kernel4), 224)\n",
    "        #plt.show()\n",
    "        print(\"  Convolution-->MaxPooling Image :\")\n",
    "        pre = converter.pre_pro_c(image)\n",
    "        num = 1\n",
    "        for value in pre.values():\n",
    "            converter.draw_data(value, 220 + num)\n",
    "            num += 1\n",
    "            if num > 4:\n",
    "                num = 1\n",
    "                plt.figure()\n",
    "        plt.show()"
   ]
  },
  {
   "cell_type": "code",
   "execution_count": null,
   "metadata": {},
   "outputs": [],
   "source": []
  }
 ],
 "metadata": {
  "kernelspec": {
   "display_name": "Python 3",
   "language": "python",
   "name": "python3"
  },
  "language_info": {
   "codemirror_mode": {
    "name": "ipython",
    "version": 3
   },
   "file_extension": ".py",
   "mimetype": "text/x-python",
   "name": "python",
   "nbconvert_exporter": "python",
   "pygments_lexer": "ipython3",
   "version": "3.6.2"
  }
 },
 "nbformat": 4,
 "nbformat_minor": 2
}
